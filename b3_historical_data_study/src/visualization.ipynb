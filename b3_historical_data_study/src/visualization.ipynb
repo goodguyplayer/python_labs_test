{
 "cells": [
  {
   "cell_type": "markdown",
   "metadata": {},
   "source": [
    "# DATA VISUALIZATION"
   ]
  },
  {
   "cell_type": "markdown",
   "metadata": {},
   "source": [
    "## Loading Libs "
   ]
  },
  {
   "cell_type": "code",
   "execution_count": 1,
   "metadata": {},
   "outputs": [
    {
     "name": "stderr",
     "output_type": "stream",
     "text": [
      "/tmp/ipykernel_3983/464602002.py:2: DeprecationWarning: \n",
      "Pyarrow will become a required dependency of pandas in the next major release of pandas (pandas 3.0),\n",
      "(to allow more performant data types, such as the Arrow string type, and better interoperability with other libraries)\n",
      "but was not found to be installed on your system.\n",
      "If this would cause problems for you,\n",
      "please provide us feedback at https://github.com/pandas-dev/pandas/issues/54466\n",
      "        \n",
      "  import pandas as pd\n"
     ]
    }
   ],
   "source": [
    "import gc\n",
    "import pandas as pd\n",
    "from dotenv import dotenv_values \n",
    "import matplotlib.pyplot as plt"
   ]
  },
  {
   "cell_type": "markdown",
   "metadata": {},
   "source": [
    "### Setting paths & vars"
   ]
  },
  {
   "cell_type": "code",
   "execution_count": 2,
   "metadata": {},
   "outputs": [],
   "source": [
    "config = dotenv_values(\".env\") #Filepaths\n",
    "data_path = config['CSV_PATH']"
   ]
  },
  {
   "cell_type": "code",
   "execution_count": 3,
   "metadata": {},
   "outputs": [],
   "source": [
    "data_types = { \n",
    "    \"Tipreg\": \"int64\",\n",
    "    \"Date\": \"int64\",\n",
    "    \"Codbdi\": \"string\",\n",
    "    \"Codneg\": \"string\",\n",
    "    \"Tpmerc\": \"int64\",\n",
    "    \"Nomres\": \"string\",\n",
    "    \"Especi\": \"string\",\n",
    "    \"Prazot\": \"string\",\n",
    "    \"Modref\": \"string\",\n",
    "    \"Preabe\": \"string\", # (11)V99\n",
    "    \"Premax\": \"string\", # (11)V99\n",
    "    \"Premin\": \"string\", # (11)V99\n",
    "    \"Premed\": \"string\", # (11)V99\n",
    "    \"Preult\": \"string\", # (11)V99\n",
    "    \"Preofc\": \"string\", # (11)V99\n",
    "    \"Preofv\": \"string\", # (11)V99\n",
    "    \"Totneg\": \"int64\",\n",
    "    \"Quatot\": \"int64\",\n",
    "    \"Voltot\": \"string\", # (16)V99\n",
    "    \"Preexe\": \"string\", # (11)V99\n",
    "    \"Indopc\": \"int64\",\n",
    "    \"Datven\": \"int64\",\n",
    "    \"Fatcot\": \"int64\",\n",
    "    \"Ptoexe\": \"string\", # (07)V06\n",
    "    \"Codisi\": \"string\",\n",
    "    \"Dismes\": \"string\",\n",
    "}"
   ]
  },
  {
   "cell_type": "code",
   "execution_count": 4,
   "metadata": {},
   "outputs": [],
   "source": [
    "df = pd.read_csv(\n",
    "    filepath_or_buffer=data_path,\n",
    "#    names=data_names,\n",
    "    dtype=data_types,\n",
    "    on_bad_lines='warn',\n",
    ")"
   ]
  },
  {
   "cell_type": "markdown",
   "metadata": {},
   "source": [
    "### Fixing df (float vals)"
   ]
  },
  {
   "cell_type": "code",
   "execution_count": null,
   "metadata": {},
   "outputs": [],
   "source": [
    "def convert_to_float(val):\n",
    "    return float(int(val) / 100)"
   ]
  },
  {
   "cell_type": "code",
   "execution_count": null,
   "metadata": {},
   "outputs": [],
   "source": [
    "df[\"Preabe\"] = df[\"Preabe\"].apply(convert_to_float)\n",
    "df[\"Premax\"] = df[\"Premax\"].apply(convert_to_float)\n",
    "df[\"Premin\"] = df[\"Premin\"].apply(convert_to_float)\n",
    "df[\"Premed\"] = df[\"Premed\"].apply(convert_to_float)\n",
    "df[\"Preult\"] = df[\"Preult\"].apply(convert_to_float)\n",
    "df[\"Preofc\"] = df[\"Preofc\"].apply(convert_to_float)\n",
    "df[\"Preofv\"] = df[\"Preofv\"].apply(convert_to_float)\n",
    "df[\"Voltot\"] = df[\"Voltot\"].apply(convert_to_float)\n",
    "df[\"Preexe\"] = df[\"Preexe\"].apply(convert_to_float)"
   ]
  },
  {
   "cell_type": "markdown",
   "metadata": {},
   "source": [
    "### Dropping Tipreg (Exported by file, only indicates type of register in file)"
   ]
  },
  {
   "cell_type": "code",
   "execution_count": null,
   "metadata": {},
   "outputs": [
    {
     "ename": "Error",
     "evalue": "Canceled future for execute_request message before replies were done",
     "output_type": "error",
     "traceback": [
      "Error: Canceled future for execute_request message before replies were done",
      "at t.KernelShellFutureHandler.dispose (/home/nathan/.vscode-server/extensions/ms-toolsai.jupyter-2022.3.1000901801/out/extension.js:2:1204175)",
      "at /home/nathan/.vscode-server/extensions/ms-toolsai.jupyter-2022.3.1000901801/out/extension.js:2:1223227",
      "at Map.forEach (<anonymous>)",
      "at v._clearKernelState (/home/nathan/.vscode-server/extensions/ms-toolsai.jupyter-2022.3.1000901801/out/extension.js:2:1223212)",
      "at v.dispose (/home/nathan/.vscode-server/extensions/ms-toolsai.jupyter-2022.3.1000901801/out/extension.js:2:1216694)",
      "at /home/nathan/.vscode-server/extensions/ms-toolsai.jupyter-2022.3.1000901801/out/extension.js:2:533674",
      "at t.swallowExceptions (/home/nathan/.vscode-server/extensions/ms-toolsai.jupyter-2022.3.1000901801/out/extension.js:2:913059)",
      "at dispose (/home/nathan/.vscode-server/extensions/ms-toolsai.jupyter-2022.3.1000901801/out/extension.js:2:533652)",
      "at t.RawSession.dispose (/home/nathan/.vscode-server/extensions/ms-toolsai.jupyter-2022.3.1000901801/out/extension.js:2:537330)",
      "at runMicrotasks (<anonymous>)",
      "at processTicksAndRejections (node:internal/process/task_queues:96:5)"
     ]
    }
   ],
   "source": [
    "df.drop(['Tipreg'], axis=1)"
   ]
  },
  {
   "cell_type": "code",
   "execution_count": null,
   "metadata": {},
   "outputs": [],
   "source": [
    "df.head()"
   ]
  },
  {
   "cell_type": "markdown",
   "metadata": {},
   "source": [
    "# Ending"
   ]
  },
  {
   "cell_type": "code",
   "execution_count": null,
   "metadata": {},
   "outputs": [
    {
     "data": {
      "text/plain": [
       "0"
      ]
     },
     "execution_count": 13,
     "metadata": {},
     "output_type": "execute_result"
    }
   ],
   "source": [
    "del df\n",
    "gc.collect()"
   ]
  },
  {
   "cell_type": "code",
   "execution_count": null,
   "metadata": {},
   "outputs": [],
   "source": []
  }
 ],
 "metadata": {
  "interpreter": {
   "hash": "916dbcbb3f70747c44a77c7bcd40155683ae19c65e1c03b4aa3499c5328201f1"
  },
  "kernelspec": {
   "display_name": "Python 3.10.12 64-bit",
   "language": "python",
   "name": "python3"
  },
  "language_info": {
   "codemirror_mode": {
    "name": "ipython",
    "version": 3
   },
   "file_extension": ".py",
   "mimetype": "text/x-python",
   "name": "python",
   "nbconvert_exporter": "python",
   "pygments_lexer": "ipython3",
   "version": "3.10.12"
  },
  "orig_nbformat": 4
 },
 "nbformat": 4,
 "nbformat_minor": 2
}
